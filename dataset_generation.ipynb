{
 "cells": [
  {
   "cell_type": "code",
   "execution_count": 23,
   "metadata": {},
   "outputs": [
    {
     "name": "stdout",
     "output_type": "stream",
     "text": [
      "Requirement already satisfied: av in c:\\users\\skipz\\appdata\\local\\programs\\python\\python312\\lib\\site-packages (14.2.0)\n",
      "Requirement already satisfied: pymediainfo in c:\\users\\skipz\\appdata\\local\\programs\\python\\python312\\lib\\site-packages (7.0.1)\n",
      "Requirement already satisfied: tqdm in c:\\users\\skipz\\appdata\\local\\programs\\python\\python312\\lib\\site-packages (4.66.2)\n",
      "Requirement already satisfied: kagglehub[pandas-datasets] in c:\\users\\skipz\\appdata\\local\\programs\\python\\python312\\lib\\site-packages (0.3.10)\n",
      "Requirement already satisfied: imageio[ffmpeg] in c:\\users\\skipz\\appdata\\local\\programs\\python\\python312\\lib\\site-packages (2.37.0)\n",
      "Requirement already satisfied: packaging in c:\\users\\skipz\\appdata\\local\\programs\\python\\python312\\lib\\site-packages (from kagglehub[pandas-datasets]) (23.2)\n",
      "Requirement already satisfied: pyyaml in c:\\users\\skipz\\appdata\\local\\programs\\python\\python312\\lib\\site-packages (from kagglehub[pandas-datasets]) (6.0.1)\n",
      "Requirement already satisfied: requests in c:\\users\\skipz\\appdata\\local\\programs\\python\\python312\\lib\\site-packages (from kagglehub[pandas-datasets]) (2.31.0)\n",
      "Requirement already satisfied: pandas in c:\\users\\skipz\\appdata\\local\\programs\\python\\python312\\lib\\site-packages (from kagglehub[pandas-datasets]) (2.2.2)\n",
      "Requirement already satisfied: colorama in c:\\users\\skipz\\appdata\\roaming\\python\\python312\\site-packages (from tqdm) (0.4.6)\n",
      "Requirement already satisfied: numpy in c:\\users\\skipz\\appdata\\local\\programs\\python\\python312\\lib\\site-packages (from imageio[ffmpeg]) (1.26.4)\n",
      "Requirement already satisfied: pillow>=8.3.2 in c:\\users\\skipz\\appdata\\local\\programs\\python\\python312\\lib\\site-packages (from imageio[ffmpeg]) (10.1.0)\n",
      "Requirement already satisfied: imageio-ffmpeg in c:\\users\\skipz\\appdata\\local\\programs\\python\\python312\\lib\\site-packages (from imageio[ffmpeg]) (0.6.0)\n",
      "Requirement already satisfied: psutil in c:\\users\\skipz\\appdata\\roaming\\python\\python312\\site-packages (from imageio[ffmpeg]) (5.9.6)\n",
      "Requirement already satisfied: python-dateutil>=2.8.2 in c:\\users\\skipz\\appdata\\local\\programs\\python\\python312\\lib\\site-packages (from pandas->kagglehub[pandas-datasets]) (2.9.0.post0)\n",
      "Requirement already satisfied: pytz>=2020.1 in c:\\users\\skipz\\appdata\\local\\programs\\python\\python312\\lib\\site-packages (from pandas->kagglehub[pandas-datasets]) (2024.1)\n",
      "Requirement already satisfied: tzdata>=2022.7 in c:\\users\\skipz\\appdata\\local\\programs\\python\\python312\\lib\\site-packages (from pandas->kagglehub[pandas-datasets]) (2024.1)\n",
      "Requirement already satisfied: charset-normalizer<4,>=2 in c:\\users\\skipz\\appdata\\local\\programs\\python\\python312\\lib\\site-packages (from requests->kagglehub[pandas-datasets]) (3.3.2)\n",
      "Requirement already satisfied: idna<4,>=2.5 in c:\\users\\skipz\\appdata\\local\\programs\\python\\python312\\lib\\site-packages (from requests->kagglehub[pandas-datasets]) (3.7)\n",
      "Requirement already satisfied: urllib3<3,>=1.21.1 in c:\\users\\skipz\\appdata\\local\\programs\\python\\python312\\lib\\site-packages (from requests->kagglehub[pandas-datasets]) (2.0.7)\n",
      "Requirement already satisfied: certifi>=2017.4.17 in c:\\users\\skipz\\appdata\\local\\programs\\python\\python312\\lib\\site-packages (from requests->kagglehub[pandas-datasets]) (2024.6.2)\n",
      "Requirement already satisfied: six>=1.5 in c:\\users\\skipz\\appdata\\roaming\\python\\python312\\site-packages (from python-dateutil>=2.8.2->pandas->kagglehub[pandas-datasets]) (1.16.0)\n"
     ]
    }
   ],
   "source": [
    "! pip install kagglehub[pandas-datasets] av pymediainfo tqdm imageio[ffmpeg]"
   ]
  },
  {
   "cell_type": "code",
   "execution_count": 2,
   "metadata": {},
   "outputs": [
    {
     "name": "stderr",
     "output_type": "stream",
     "text": [
      "c:\\Users\\skipz\\AppData\\Local\\Programs\\Python\\Python312\\Lib\\site-packages\\tqdm\\auto.py:21: TqdmWarning: IProgress not found. Please update jupyter and ipywidgets. See https://ipywidgets.readthedocs.io/en/stable/user_install.html\n",
      "  from .autonotebook import tqdm as notebook_tqdm\n"
     ]
    },
    {
     "data": {
      "text/plain": [
       "'C:\\\\Users\\\\skipz\\\\.cache\\\\kagglehub\\\\datasets\\\\risangbaskoro\\\\wlasl-processed\\\\versions\\\\5'"
      ]
     },
     "execution_count": 2,
     "metadata": {},
     "output_type": "execute_result"
    }
   ],
   "source": [
    "import kagglehub\n",
    "from tqdm import tqdm\n",
    "\n",
    "tqdm.pandas()\n",
    "\n",
    "\n",
    "#Warning: This downloads the entire dataset (~5GB). If you already have the files downloaded, find some other way to download them\n",
    "path = kagglehub.dataset_download(\"risangbaskoro/wlasl-processed\")\n",
    "\n",
    "path"
   ]
  },
  {
   "cell_type": "markdown",
   "metadata": {},
   "source": [
    "# Importing the Data\n",
    "Load in `WLASL_v0.3.json`, which contains `gloss`, i.e. the name of the item, and `instances`, describing each video instance.\n",
    "\n",
    "We unpivot and flatten the structure of the dataset.\n",
    "\n",
    "The missing video files are filtered out."
   ]
  },
  {
   "cell_type": "code",
   "execution_count": 3,
   "metadata": {},
   "outputs": [
    {
     "data": {
      "text/html": [
       "<div>\n",
       "<style scoped>\n",
       "    .dataframe tbody tr th:only-of-type {\n",
       "        vertical-align: middle;\n",
       "    }\n",
       "\n",
       "    .dataframe tbody tr th {\n",
       "        vertical-align: top;\n",
       "    }\n",
       "\n",
       "    .dataframe thead th {\n",
       "        text-align: right;\n",
       "    }\n",
       "</style>\n",
       "<table border=\"1\" class=\"dataframe\">\n",
       "  <thead>\n",
       "    <tr style=\"text-align: right;\">\n",
       "      <th></th>\n",
       "      <th>gloss</th>\n",
       "      <th>bbox</th>\n",
       "      <th>fps</th>\n",
       "      <th>frame_end</th>\n",
       "      <th>frame_start</th>\n",
       "      <th>instance_id</th>\n",
       "      <th>signer_id</th>\n",
       "      <th>source</th>\n",
       "      <th>split</th>\n",
       "      <th>url</th>\n",
       "      <th>variation_id</th>\n",
       "      <th>video_id</th>\n",
       "    </tr>\n",
       "  </thead>\n",
       "  <tbody>\n",
       "    <tr>\n",
       "      <th>0</th>\n",
       "      <td>book</td>\n",
       "      <td>[385, 37, 885, 720]</td>\n",
       "      <td>25</td>\n",
       "      <td>-1</td>\n",
       "      <td>1</td>\n",
       "      <td>0</td>\n",
       "      <td>118</td>\n",
       "      <td>aslbrick</td>\n",
       "      <td>train</td>\n",
       "      <td>http://aslbricks.org/New/ASL-Videos/book.mp4</td>\n",
       "      <td>0</td>\n",
       "      <td>69241</td>\n",
       "    </tr>\n",
       "    <tr>\n",
       "      <th>10</th>\n",
       "      <td>book</td>\n",
       "      <td>[462, 44, 949, 720]</td>\n",
       "      <td>25</td>\n",
       "      <td>-1</td>\n",
       "      <td>1</td>\n",
       "      <td>10</td>\n",
       "      <td>31</td>\n",
       "      <td>signschool</td>\n",
       "      <td>train</td>\n",
       "      <td>https://signstock.blob.core.windows.net/signsc...</td>\n",
       "      <td>0</td>\n",
       "      <td>07069</td>\n",
       "    </tr>\n",
       "    <tr>\n",
       "      <th>17</th>\n",
       "      <td>book</td>\n",
       "      <td>[234, 17, 524, 414]</td>\n",
       "      <td>25</td>\n",
       "      <td>-1</td>\n",
       "      <td>1</td>\n",
       "      <td>17</td>\n",
       "      <td>36</td>\n",
       "      <td>startasl</td>\n",
       "      <td>train</td>\n",
       "      <td>https://s3-us-west-1.amazonaws.com/files.start...</td>\n",
       "      <td>0</td>\n",
       "      <td>07068</td>\n",
       "    </tr>\n",
       "    <tr>\n",
       "      <th>22</th>\n",
       "      <td>book</td>\n",
       "      <td>[131, 26, 526, 480]</td>\n",
       "      <td>25</td>\n",
       "      <td>-1</td>\n",
       "      <td>1</td>\n",
       "      <td>22</td>\n",
       "      <td>59</td>\n",
       "      <td>asldeafined</td>\n",
       "      <td>train</td>\n",
       "      <td>https://media.asldeafined.com/vocabulary/14666...</td>\n",
       "      <td>0</td>\n",
       "      <td>07070</td>\n",
       "    </tr>\n",
       "    <tr>\n",
       "      <th>24</th>\n",
       "      <td>book</td>\n",
       "      <td>[162, 54, 528, 400]</td>\n",
       "      <td>25</td>\n",
       "      <td>-1</td>\n",
       "      <td>1</td>\n",
       "      <td>24</td>\n",
       "      <td>12</td>\n",
       "      <td>aslsearch</td>\n",
       "      <td>val</td>\n",
       "      <td>http://www.aslsearch.com/signs/videos/book.mp4</td>\n",
       "      <td>0</td>\n",
       "      <td>07099</td>\n",
       "    </tr>\n",
       "  </tbody>\n",
       "</table>\n",
       "</div>"
      ],
      "text/plain": [
       "   gloss                 bbox  fps  frame_end  frame_start  instance_id  \\\n",
       "0   book  [385, 37, 885, 720]   25         -1            1            0   \n",
       "10  book  [462, 44, 949, 720]   25         -1            1           10   \n",
       "17  book  [234, 17, 524, 414]   25         -1            1           17   \n",
       "22  book  [131, 26, 526, 480]   25         -1            1           22   \n",
       "24  book  [162, 54, 528, 400]   25         -1            1           24   \n",
       "\n",
       "    signer_id       source  split  \\\n",
       "0         118     aslbrick  train   \n",
       "10         31   signschool  train   \n",
       "17         36     startasl  train   \n",
       "22         59  asldeafined  train   \n",
       "24         12    aslsearch    val   \n",
       "\n",
       "                                                  url  variation_id video_id  \n",
       "0        http://aslbricks.org/New/ASL-Videos/book.mp4             0    69241  \n",
       "10  https://signstock.blob.core.windows.net/signsc...             0    07069  \n",
       "17  https://s3-us-west-1.amazonaws.com/files.start...             0    07068  \n",
       "22  https://media.asldeafined.com/vocabulary/14666...             0    07070  \n",
       "24     http://www.aslsearch.com/signs/videos/book.mp4             0    07099  "
      ]
     },
     "execution_count": 3,
     "metadata": {},
     "output_type": "execute_result"
    }
   ],
   "source": [
    "import pandas as pd\n",
    "import json\n",
    "\n",
    "\n",
    "with open(path + '/WLASL_v0.3.json') as f: \n",
    "    data = json.load(f)\n",
    "\n",
    "with open(path + '/missing.txt') as f: \n",
    "    missing = set(line.strip() for line in f.readlines())\n",
    "\n",
    "df = pd.DataFrame.from_records(data)\n",
    "df = df.explode('instances').reset_index()\n",
    "\n",
    "# Flatten the dataset\n",
    "df = pd.concat([df['gloss'], pd.json_normalize(df['instances'])], axis=1)\n",
    "\n",
    "# Filter out the videos in missing.txt\n",
    "df = df[~df['video_id'].isin(missing)]\n",
    "\n",
    "df.head()"
   ]
  },
  {
   "cell_type": "markdown",
   "metadata": {},
   "source": [
    "# Data analysis & selection\n",
    "After removing the missing videos, there are a good number of words only 2 or 3 videos to train on. We will filter these out.\n",
    "\n",
    "Additionally, only the video_id will be used in our final dataset, the rest of the information is not relevant to training."
   ]
  },
  {
   "cell_type": "code",
   "execution_count": 4,
   "metadata": {},
   "outputs": [
    {
     "name": "stdout",
     "output_type": "stream",
     "text": [
      "           fps  frame_end   frame_start   instance_id     signer_id  \\\n",
      "count  11980.0    11980.0  11980.000000  11980.000000  11980.000000   \n",
      "mean      25.0       -1.0      1.000250      6.353088     27.990150   \n",
      "std        0.0        0.0      0.020429      4.515867     28.920946   \n",
      "min       25.0       -1.0      1.000000      0.000000      0.000000   \n",
      "25%       25.0       -1.0      1.000000      3.000000     11.000000   \n",
      "50%       25.0       -1.0      1.000000      6.000000     13.000000   \n",
      "75%       25.0       -1.0      1.000000      9.000000     38.000000   \n",
      "max       25.0       -1.0      3.000000     39.000000    120.000000   \n",
      "\n",
      "       variation_id  \n",
      "count  11980.000000  \n",
      "mean       0.054841  \n",
      "std        0.232398  \n",
      "min        0.000000  \n",
      "25%        0.000000  \n",
      "50%        0.000000  \n",
      "75%        0.000000  \n",
      "max        2.000000  \n"
     ]
    },
    {
     "data": {
      "text/html": [
       "<div>\n",
       "<style scoped>\n",
       "    .dataframe tbody tr th:only-of-type {\n",
       "        vertical-align: middle;\n",
       "    }\n",
       "\n",
       "    .dataframe tbody tr th {\n",
       "        vertical-align: top;\n",
       "    }\n",
       "\n",
       "    .dataframe thead th {\n",
       "        text-align: right;\n",
       "    }\n",
       "</style>\n",
       "<table border=\"1\" class=\"dataframe\">\n",
       "  <thead>\n",
       "    <tr style=\"text-align: right;\">\n",
       "      <th></th>\n",
       "      <th>video_id</th>\n",
       "      <th>label</th>\n",
       "      <th>bbox</th>\n",
       "      <th>frame_start</th>\n",
       "    </tr>\n",
       "  </thead>\n",
       "  <tbody>\n",
       "    <tr>\n",
       "      <th>0</th>\n",
       "      <td>69241</td>\n",
       "      <td>book</td>\n",
       "      <td>[385, 37, 885, 720]</td>\n",
       "      <td>1</td>\n",
       "    </tr>\n",
       "    <tr>\n",
       "      <th>1</th>\n",
       "      <td>07069</td>\n",
       "      <td>book</td>\n",
       "      <td>[462, 44, 949, 720]</td>\n",
       "      <td>1</td>\n",
       "    </tr>\n",
       "    <tr>\n",
       "      <th>2</th>\n",
       "      <td>07068</td>\n",
       "      <td>book</td>\n",
       "      <td>[234, 17, 524, 414]</td>\n",
       "      <td>1</td>\n",
       "    </tr>\n",
       "    <tr>\n",
       "      <th>3</th>\n",
       "      <td>07070</td>\n",
       "      <td>book</td>\n",
       "      <td>[131, 26, 526, 480]</td>\n",
       "      <td>1</td>\n",
       "    </tr>\n",
       "    <tr>\n",
       "      <th>4</th>\n",
       "      <td>07099</td>\n",
       "      <td>book</td>\n",
       "      <td>[162, 54, 528, 400]</td>\n",
       "      <td>1</td>\n",
       "    </tr>\n",
       "  </tbody>\n",
       "</table>\n",
       "</div>"
      ],
      "text/plain": [
       "  video_id label                 bbox  frame_start\n",
       "0    69241  book  [385, 37, 885, 720]            1\n",
       "1    07069  book  [462, 44, 949, 720]            1\n",
       "2    07068  book  [234, 17, 524, 414]            1\n",
       "3    07070  book  [131, 26, 526, 480]            1\n",
       "4    07099  book  [162, 54, 528, 400]            1"
      ]
     },
     "execution_count": 4,
     "metadata": {},
     "output_type": "execute_result"
    },
    {
     "data": {
      "image/png": "[encoded data removed]",
      "text/plain": [
       "<Figure size 640x480 with 1 Axes>"
      ]
     },
     "metadata": {},
     "output_type": "display_data"
    }
   ],
   "source": [
    "# Verify distribution of instances is very skewed\n",
    "counts = df.value_counts('gloss')\n",
    "counts.plot.hist(bins=14)\n",
    "\n",
    "# Remove the instances where their counts < 4\n",
    "to_remove = set(counts[counts < 4].index)\n",
    "df_filtered = df[~df['gloss'].isin(to_remove)]\n",
    "\n",
    "#The fps & frame_start is always the same value, so we can remove it safely. In fact, the fps will be different, as we will see soon.\n",
    "print(df.describe())\n",
    "\n",
    "#Finally, we are left with just the video_id and their labels.\n",
    "df_filtered = df_filtered[['video_id', 'gloss', 'bbox', 'frame_start']].rename({'gloss': 'label'}, axis=1).reset_index().drop('index', axis=1)\n",
    "df_filtered.head()"
   ]
  },
  {
   "cell_type": "markdown",
   "metadata": {},
   "source": [
    "## Metadata Analysis\n",
    "\n",
    "Now we move on to extract metadata from the videos. This will allow us to make decisions on how to proceed with the video data without having to parse all the videos first. "
   ]
  },
  {
   "cell_type": "code",
   "execution_count": 5,
   "metadata": {},
   "outputs": [],
   "source": [
    "from pymediainfo import MediaInfo\n",
    "def get_metadata(id):\n",
    "    data = MediaInfo.parse(path + f'/videos/{id}.mp4')\n",
    "    track = data.video_tracks[0]\n",
    "\n",
    "    return pd.to_numeric(pd.Series({\n",
    "        'framerate': track.frame_rate,\n",
    "        'frames': track.frame_count,\n",
    "        'length_secs': track.duration / 1000,\n",
    "        'width': track.width,\n",
    "        'height': track.height,\n",
    "        'aspect_ratio': track.display_aspect_ratio\n",
    "    }))"
   ]
  },
  {
   "cell_type": "code",
   "execution_count": 6,
   "metadata": {},
   "outputs": [
    {
     "name": "stderr",
     "output_type": "stream",
     "text": [
      "100%|██████████| 11724/11724 [02:07<00:00, 92.24it/s] \n"
     ]
    }
   ],
   "source": [
    "#This will take a few minutes to run\n",
    "metadata = df_filtered['video_id'].progress_apply(lambda row: get_metadata(row))"
   ]
  },
  {
   "cell_type": "markdown",
   "metadata": {},
   "source": [
    "Some things found from the analysis:\n",
    "- Framerate is not consistent, and tends to cluster at ~25fps, ~30fps, and ~60fps. However there are 2 outliers at ~12fps.\n",
    "- The length of videos varies quite a bit from 1 - 8 seconds, and is skewed to the right.\n",
    "- The aspect ratio prior to cropping generally fall into 1.33, 1.5 and 1.778/1.8. In all cases, width is larger than height, but that may not be the case if cropping is applied."
   ]
  },
  {
   "cell_type": "code",
   "execution_count": 8,
   "metadata": {},
   "outputs": [
    {
     "name": "stdout",
     "output_type": "stream",
     "text": [
      "          framerate        frames   length_secs         width        height  \\\n",
      "count  11724.000000  11724.000000  11724.000000  11724.000000  11724.000000   \n",
      "mean      28.520235     68.987973      2.424822    761.947458    460.939782   \n",
      "std        3.110991     26.740595      0.936900    545.645576    293.391590   \n",
      "min       12.000000     15.000000      0.567000    288.000000    180.000000   \n",
      "25%       25.000000     46.000000      1.668000    320.000000    240.000000   \n",
      "50%       29.970000     70.000000      2.466000    640.000000    400.000000   \n",
      "75%       30.000000     87.000000      3.000000    720.000000    480.000000   \n",
      "max       59.940000    233.000000      8.125000   1920.000000   1080.000000   \n",
      "\n",
      "       aspect_ratio  \n",
      "count  11724.000000  \n",
      "mean       1.593094  \n",
      "std        0.198537  \n",
      "min        1.333000  \n",
      "25%        1.333000  \n",
      "50%        1.500000  \n",
      "75%        1.778000  \n",
      "max        1.800000  \n"
     ]
    },
    {
     "data": {
      "text/plain": [
       "<Axes: ylabel='Frequency'>"
      ]
     },
     "execution_count": 8,
     "metadata": {},
     "output_type": "execute_result"
    },
    {
     "data": {
      "image/png": "[encoded data removed]",
      "text/plain": [
       "<Figure size 640x480 with 1 Axes>"
      ]
     },
     "metadata": {},
     "output_type": "display_data"
    }
   ],
   "source": [
    "print(metadata.describe())\n",
    "metadata['framerate'].plot.hist()"
   ]
  },
  {
   "cell_type": "code",
   "execution_count": 9,
   "metadata": {},
   "outputs": [
    {
     "data": {
      "text/plain": [
       "<Axes: ylabel='Frequency'>"
      ]
     },
     "execution_count": 9,
     "metadata": {},
     "output_type": "execute_result"
    },
    {
     "data": {
      "image/png": "[encoded data removed]",
      "text/plain": [
       "<Figure size 640x480 with 1 Axes>"
      ]
     },
     "metadata": {},
     "output_type": "display_data"
    }
   ],
   "source": [
    "metadata['length_secs'].plot.hist(bins=40)"
   ]
  },
  {
   "cell_type": "code",
   "execution_count": 10,
   "metadata": {},
   "outputs": [
    {
     "data": {
      "text/plain": [
       "<Axes: ylabel='Frequency'>"
      ]
     },
     "execution_count": 10,
     "metadata": {},
     "output_type": "execute_result"
    },
    {
     "data": {
      "image/png": "[encoded data removed]",
      "text/plain": [
       "<Figure size 640x480 with 1 Axes>"
      ]
     },
     "metadata": {},
     "output_type": "display_data"
    }
   ],
   "source": [
    "metadata['aspect_ratio'].plot.hist(bins=10)"
   ]
  },
  {
   "cell_type": "markdown",
   "metadata": {},
   "source": [
    "## Video Ingestion and Transformation\n",
    "\n",
    "Based on the earlier results, we will normalise the video as such:\n",
    "- Video aspect ratio stretched to 1.8, i.e. 16:9, as most videos are of that aspect ratio, and if we want to test on real video, most cameras will output 16:9 video. This means that more than half the videos will have to be stretched horizontally. We can also try using the mean of 1.6 instead.\n",
    "- Video downscaled to 242 x 136 (16:9 ratio).\n",
    "- RGB channels combined into a Luminosity (grayscale) channel\n",
    "- Videos will be adjusted to approx 15 fps, by skipping or taking nearest frames.\n",
    "\n",
    "This should result in a tensor of shape [n, 136, 242, 1], where n/15 is the length of the video. Pooling layers can be used to reduce the resolution further during training.\n",
    "\n",
    "Once rendered, the video can be re-encoded to reduce the space it takes on the drive even further."
   ]
  },
  {
   "cell_type": "code",
   "execution_count": 51,
   "metadata": {},
   "outputs": [
    {
     "name": "stdout",
     "output_type": "stream",
     "text": [
      "torch.Size([75, 720, 1280, 3])\n",
      "torch.Size([38, 136, 242, 1])\n"
     ]
    }
   ],
   "source": [
    "from torchvision import io\n",
    "from torchvision.transforms import transforms\n",
    "\n",
    "def calc_skip(framerate):\n",
    "    if framerate < 15:\n",
    "        skip = 1 #Take every frame when ~12 fps\n",
    "    elif framerate < 40:\n",
    "        skip = 2 #Take every other frame when ~30fps\n",
    "    else:\n",
    "        skip = 4 #Take one in 4 frames when ~60fps\n",
    "    \n",
    "    return skip\n",
    "\n",
    "def import_video(id, frame_start, output_size=(242, 136), bbox = None):\n",
    "    try:\n",
    "        video, audio, metadata = io.read_video(path + f'/videos/{id}.mp4', pts_unit='sec')\n",
    "        print(video.shape)\n",
    "    except:\n",
    "        print(f'Error parsing video {id}')\n",
    "        return None\n",
    "    \n",
    "    video = video.to('cuda')\n",
    "    \n",
    "    if bbox:\n",
    "        video = video[frame_start-1:, bbox[0]:bbox[2], bbox[1]:bbox[3], :]\n",
    "\n",
    "    skip = calc_skip(metadata['video_fps'])\n",
    "    \n",
    "    trans = transforms.Compose([\n",
    "        transforms.Grayscale(),\n",
    "        transforms.Resize(output_size)\n",
    "    ])\n",
    "\n",
    "    scaled_video = trans(video[::skip].permute(0, 3, 2, 1)).permute(0, 3, 2, 1)\n",
    "    \n",
    "    return scaled_video\n",
    "\n",
    "data = import_video(69241, 1)\n",
    "print(data.shape)"
   ]
  },
  {
   "cell_type": "code",
   "execution_count": null,
   "metadata": {},
   "outputs": [
    {
     "name": "stderr",
     "output_type": "stream",
     "text": [
      " 12%|█▏        | 1359/11724 [03:01<21:16,  8.12it/s]Invalid NAL unit size (745 > 472).\n",
      "Error splitting the input into NAL units.\n",
      " 12%|█▏        | 1362/11724 [03:01<24:54,  6.93it/s]"
     ]
    },
    {
     "name": "stdout",
     "output_type": "stream",
     "text": [
      "Error parsing video 04709\n"
     ]
    },
    {
     "name": "stderr",
     "output_type": "stream",
     "text": [
      " 20%|█▉        | 2329/11724 [05:04<21:00,  7.45it/s]Invalid NAL unit size (71678 > 10776).\n",
      "missing picture in access unit with size 10780\n",
      "Invalid NAL unit size (71678 > 10776).\n",
      "Error splitting the input into NAL units.\n",
      " 20%|█▉        | 2333/11724 [05:04<19:26,  8.05it/s]"
     ]
    },
    {
     "name": "stdout",
     "output_type": "stream",
     "text": [
      "Error parsing video 69211\n"
     ]
    },
    {
     "name": "stderr",
     "output_type": "stream",
     "text": [
      "100%|██████████| 11724/11724 [23:36<00:00,  8.28it/s]\n"
     ]
    }
   ],
   "source": [
    "import imageio\n",
    "from tqdm import tqdm\n",
    "\n",
    "def generate_compressed_dataset(df, output_path):\n",
    "    writer = imageio.get_writer(output_path, fps=15, codec='h264_nvenc', pixelformat='gray', macro_block_size=1)\n",
    "\n",
    "    error_videos = []\n",
    "\n",
    "    for i, (video_id, label, bbox, frame_start) in tqdm(df.iterrows(), total=len(df)):\n",
    "        vid = import_video(video_id, frame_start)\n",
    "\n",
    "        if vid is None:\n",
    "            error_videos.append(video_id)\n",
    "        else:\n",
    "            #Ideally, we should directly render the file to the output file without copying back to the cpu... but there doesn't seem to be any good way of doing it at the moment\n",
    "            for frame in vid.cpu().numpy():\n",
    "                writer.append_data(frame)\n",
    "    \n",
    "    writer.close()\n",
    "\n",
    "    return error_videos\n",
    "\n",
    "error_ids = generate_compressed_dataset(df_filtered, 'wlasl_downsampled.mp4')\n",
    "error_ids = set(error_ids)\n",
    "\n",
    "with open('errors.txt', 'w') as f:\n",
    "    f.writelines(id + '\\n' for id in error_ids)"
   ]
  },
  {
   "cell_type": "code",
   "execution_count": 79,
   "metadata": {},
   "outputs": [],
   "source": [
    "# In case the code is being run from this point\n",
    "error_ids = set(['04709','69211'])"
   ]
  },
  {
   "cell_type": "markdown",
   "metadata": {},
   "source": [
    "# Frame length correction\n",
    "For some reason, the number of frames obtained by pymediadata is slightly off. To correct that, we can use ffprobe to get the actual length of the frames.\n",
    "\n",
    "Alternatively, we could get them from the dataset directly, but given we didn't store each video individually, this will have to do"
   ]
  },
  {
   "cell_type": "code",
   "execution_count": 78,
   "metadata": {},
   "outputs": [
    {
     "name": "stderr",
     "output_type": "stream",
     "text": [
      "100%|██████████| 11724/11724 [13:52<00:00, 14.09it/s]\n"
     ]
    }
   ],
   "source": [
    "import subprocess\n",
    "\n",
    "def get_vid_frames(path, file):\n",
    "    cmnd = ['ffprobe', '-v', 'error', '-select_streams', 'v:0', '-count_frames', '-show_entries', 'stream=nb_read_frames', '-of', 'csv=p=0', f'{path}/videos/{file}.mp4']\n",
    "    p = subprocess.Popen(cmnd, stdout=subprocess.PIPE, stderr=subprocess.PIPE)\n",
    "    out, err =  p.communicate()\n",
    "    return out\n",
    "\n",
    "actual_frames = df_filtered['video_id'].progress_apply(lambda id: get_vid_frames(path, id))"
   ]
  },
  {
   "cell_type": "code",
   "execution_count": 116,
   "metadata": {},
   "outputs": [
    {
     "data": {
      "text/plain": [
       "0        75\n",
       "1        30\n",
       "2        68\n",
       "3        86\n",
       "4        87\n",
       "         ..\n",
       "11719    83\n",
       "11720    38\n",
       "11721    58\n",
       "11722    51\n",
       "11723    88\n",
       "Name: video_id, Length: 11724, dtype: int64"
      ]
     },
     "execution_count": 116,
     "metadata": {},
     "output_type": "execute_result"
    }
   ],
   "source": [
    "actual_frame_values = pd.to_numeric(actual_frames.apply(lambda b: b.strip().removesuffix(b',')))\n",
    "actual_frame_values"
   ]
  },
  {
   "cell_type": "markdown",
   "metadata": {},
   "source": [
    "# Final output of annotations"
   ]
  },
  {
   "cell_type": "code",
   "execution_count": 127,
   "metadata": {},
   "outputs": [
    {
     "data": {
      "text/html": [
       "<div>\n",
       "<style scoped>\n",
       "    .dataframe tbody tr th:only-of-type {\n",
       "        vertical-align: middle;\n",
       "    }\n",
       "\n",
       "    .dataframe tbody tr th {\n",
       "        vertical-align: top;\n",
       "    }\n",
       "\n",
       "    .dataframe thead th {\n",
       "        text-align: right;\n",
       "    }\n",
       "</style>\n",
       "<table border=\"1\" class=\"dataframe\">\n",
       "  <thead>\n",
       "    <tr style=\"text-align: right;\">\n",
       "      <th></th>\n",
       "      <th>video_id</th>\n",
       "      <th>label</th>\n",
       "      <th>offset</th>\n",
       "      <th>length</th>\n",
       "    </tr>\n",
       "  </thead>\n",
       "  <tbody>\n",
       "    <tr>\n",
       "      <th>0</th>\n",
       "      <td>69241</td>\n",
       "      <td>book</td>\n",
       "      <td>0</td>\n",
       "      <td>38</td>\n",
       "    </tr>\n",
       "    <tr>\n",
       "      <th>1</th>\n",
       "      <td>07069</td>\n",
       "      <td>book</td>\n",
       "      <td>38</td>\n",
       "      <td>15</td>\n",
       "    </tr>\n",
       "    <tr>\n",
       "      <th>2</th>\n",
       "      <td>07068</td>\n",
       "      <td>book</td>\n",
       "      <td>53</td>\n",
       "      <td>34</td>\n",
       "    </tr>\n",
       "    <tr>\n",
       "      <th>3</th>\n",
       "      <td>07070</td>\n",
       "      <td>book</td>\n",
       "      <td>87</td>\n",
       "      <td>43</td>\n",
       "    </tr>\n",
       "    <tr>\n",
       "      <th>4</th>\n",
       "      <td>07099</td>\n",
       "      <td>book</td>\n",
       "      <td>130</td>\n",
       "      <td>44</td>\n",
       "    </tr>\n",
       "    <tr>\n",
       "      <th>...</th>\n",
       "      <td>...</td>\n",
       "      <td>...</td>\n",
       "      <td>...</td>\n",
       "      <td>...</td>\n",
       "    </tr>\n",
       "    <tr>\n",
       "      <th>11719</th>\n",
       "      <td>62493</td>\n",
       "      <td>waterfall</td>\n",
       "      <td>403889</td>\n",
       "      <td>42</td>\n",
       "    </tr>\n",
       "    <tr>\n",
       "      <th>11720</th>\n",
       "      <td>63044</td>\n",
       "      <td>wheelchair</td>\n",
       "      <td>403931</td>\n",
       "      <td>19</td>\n",
       "    </tr>\n",
       "    <tr>\n",
       "      <th>11721</th>\n",
       "      <td>63046</td>\n",
       "      <td>wheelchair</td>\n",
       "      <td>403950</td>\n",
       "      <td>29</td>\n",
       "    </tr>\n",
       "    <tr>\n",
       "      <th>11722</th>\n",
       "      <td>63047</td>\n",
       "      <td>wheelchair</td>\n",
       "      <td>403979</td>\n",
       "      <td>26</td>\n",
       "    </tr>\n",
       "    <tr>\n",
       "      <th>11723</th>\n",
       "      <td>63050</td>\n",
       "      <td>wheelchair</td>\n",
       "      <td>404005</td>\n",
       "      <td>44</td>\n",
       "    </tr>\n",
       "  </tbody>\n",
       "</table>\n",
       "<p>11722 rows × 4 columns</p>\n",
       "</div>"
      ],
      "text/plain": [
       "      video_id       label  offset  length\n",
       "0        69241        book       0      38\n",
       "1        07069        book      38      15\n",
       "2        07068        book      53      34\n",
       "3        07070        book      87      43\n",
       "4        07099        book     130      44\n",
       "...        ...         ...     ...     ...\n",
       "11719    62493   waterfall  403889      42\n",
       "11720    63044  wheelchair  403931      19\n",
       "11721    63046  wheelchair  403950      29\n",
       "11722    63047  wheelchair  403979      26\n",
       "11723    63050  wheelchair  404005      44\n",
       "\n",
       "[11722 rows x 4 columns]"
      ]
     },
     "execution_count": 127,
     "metadata": {},
     "output_type": "execute_result"
    }
   ],
   "source": [
    "import numpy as np\n",
    "\n",
    "df_noerr_filter = ~df_filtered['video_id'].isin(error_ids)\n",
    "\n",
    "frames = actual_frame_values / metadata['framerate'].apply(calc_skip)\n",
    "frames = np.ceil(frames).astype('uint16')\n",
    "frames = frames[df_noerr_filter]\n",
    "frames.name = 'length'\n",
    "\n",
    "offset = frames.cumsum() - frames\n",
    "offset.name = 'offset'\n",
    "\n",
    "annotations = pd.concat([df_filtered[df_noerr_filter], offset, frames], axis=1)[['video_id', 'label', 'offset', 'length']]\n",
    "\n",
    "annotations.to_csv('labels.csv', index=False)\n",
    "annotations"
   ]
  }
 ],
 "metadata": {
  "kernelspec": {
   "display_name": "Python 3",
   "language": "python",
   "name": "python3"
  },
  "language_info": {
   "codemirror_mode": {
    "name": "ipython",
    "version": 3
   },
   "file_extension": ".py",
   "mimetype": "text/x-python",
   "name": "python",
   "nbconvert_exporter": "python",
   "pygments_lexer": "ipython3",
   "version": "3.12.0"
  }
 },
 "nbformat": 4,
 "nbformat_minor": 2
}
