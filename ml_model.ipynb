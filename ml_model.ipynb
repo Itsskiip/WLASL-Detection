{
 "cells": [
  {
   "cell_type": "code",
   "execution_count": null,
   "metadata": {},
   "outputs": [],
   "source": [
    "! pip install pandas cv2 pytorch numpy PIL "
   ]
  },
  {
   "cell_type": "code",
   "execution_count": null,
   "metadata": {},
   "outputs": [
    {
     "data": {
      "image/jpeg": "[encoded data removed]",
      "image/png": "[encoded data removed]",
      "text/plain": [
       "<PIL.Image.Image image mode=L size=242x136>"
      ]
     },
     "metadata": {},
     "output_type": "display_data"
    },
    {
     "data": {
      "image/jpeg": "[encoded data removed]",
      "image/png": "[encoded data removed]",
      "text/plain": [
       "<PIL.Image.Image image mode=L size=242x136>"
      ]
     },
     "metadata": {},
     "output_type": "display_data"
    },
    {
     "name": "stdout",
     "output_type": "stream",
     "text": [
      "video_id    69241\n",
      "label        book\n",
      "offset          0\n",
      "length         38\n",
      "Name: 0, dtype: object\n"
     ]
    }
   ],
   "source": [
    "import pandas as pd\n",
    "import cv2\n",
    "import numpy as np\n",
    "from torch.utils.data import Dataset, Subset, DataLoader\n",
    "from IPython import display\n",
    "import torch\n",
    "import time\n",
    "from PIL import Image\n",
    "\n",
    "DEVICE = 'cuda'\n",
    "\n",
    "class VideoDataset(Dataset):\n",
    "    def __init__(self, annotations_file, vid_file, device):\n",
    "        self.annotations = pd.read_csv(annotations_file)\n",
    "        labels = self.annotations['label']\n",
    "        self.label_map = {c: i for i, c in enumerate(set(labels))}\n",
    "        self.labels = torch.tensor([self.label_map[s] for s in labels]).to(device)\n",
    "        self.cap = cv2.VideoCapture(vid_file)\n",
    "        self.device = device\n",
    "\n",
    "    def __len__(self):\n",
    "        return len(self.annotations)\n",
    "    \n",
    "    def get_clip(self, start, length):\n",
    "        self.cap.set(cv2.CAP_PROP_POS_FRAMES, start)\n",
    "        \n",
    "        return np.expand_dims(np.array([self.cap.read()[1][:,:,0] for _ in range(length)]).astype(np.float32), 1)\n",
    "\n",
    "    def __getitem__(self, idx):\n",
    "        row = self.annotations.loc[idx]\n",
    "        return torch.tensor(self.get_clip(row['offset'], row['length'])).to(self.device), self.labels[idx]\n",
    "\n",
    "def show_frame(frame):\n",
    "    frame.cpu()\n",
    "    display.display(Image.fromarray(frame.numpy().astype(np.uint8)))\n",
    "\n",
    "def play_video(vid: torch.Tensor):\n",
    "    for frame in vid[:,0,:,:]:\n",
    "        display.clear_output(wait=True)\n",
    "        show_frame(frame)\n",
    "        time.sleep(1/15)\n",
    "    \n",
    "def get_first_last(vid):\n",
    "    frame_start = vid[0][0].cpu()\n",
    "    frame_end = vid[-1][0].cpu()\n",
    "    \n",
    "    show_frame(frame_start)\n",
    "    show_frame(frame_end)\n",
    "\n",
    "def stats(i):\n",
    "    get_first_last(ds[i][0])\n",
    "    print(ds.annotations.loc[i])\n",
    "        \n",
    "ds = VideoDataset('labels.csv', 'wlasl_downsampled', DEVICE)\n",
    "\n",
    "stats(0)"
   ]
  },
  {
   "cell_type": "code",
   "execution_count": 13,
   "metadata": {},
   "outputs": [],
   "source": [
    "import torch\n",
    "from sklearn.model_selection import train_test_split\n",
    "import torch.nn.utils.rnn as rnn_utils\n",
    "\n",
    "TEST_SIZE = 0.2\n",
    "BATCH_SIZE = 64\n",
    "SEED = 10\n",
    "\n",
    "train_i, test_i = train_test_split(\n",
    "    range(len(ds)),\n",
    "    stratify=ds.annotations['label'],\n",
    "    test_size=TEST_SIZE,\n",
    "    random_state=SEED\n",
    "    )\n",
    "\n",
    "torch.manual_seed(SEED)\n",
    "\n",
    "train_split = Subset(ds, train_i)\n",
    "test_split = Subset(ds, test_i)\n",
    "\n",
    "def collate(batch):\n",
    "    batch.sort(key=lambda x: x[0].size(0), reverse=True)\n",
    "    videos, labels = zip(*batch)\n",
    "\n",
    "    lengths = [video.size(0) for video in videos]\n",
    "\n",
    "    padded_videos = rnn_utils.pack_sequence(videos)\n",
    "\n",
    "    return padded_videos, torch.stack(labels)\n",
    "\n",
    "train_batches = DataLoader(train_split, batch_size=BATCH_SIZE, shuffle=True, collate_fn=collate)\n",
    "test_batches = DataLoader(test_split, batch_size=BATCH_SIZE, collate_fn=collate)\n"
   ]
  },
  {
   "cell_type": "code",
   "execution_count": null,
   "metadata": {},
   "outputs": [
    {
     "data": {
      "text/plain": [
       "torch.Size([47, 1910])"
      ]
     },
     "execution_count": 14,
     "metadata": {},
     "output_type": "execute_result"
    }
   ],
   "source": []
  },
  {
   "cell_type": "code",
   "execution_count": 15,
   "metadata": {},
   "outputs": [
    {
     "name": "stderr",
     "output_type": "stream",
     "text": [
      "100%|██████████| 147/147 [02:47<00:00,  1.14s/it]\n"
     ]
    },
    {
     "name": "stdout",
     "output_type": "stream",
     "text": [
      "Epoch 1/1, Loss: 7.554927388016059\n",
      "Accuracy: 0.1279317697228145%\n"
     ]
    }
   ],
   "source": [
    "from torch.optim import Adam\n",
    "from torch.nn import CrossEntropyLoss\n",
    "from tqdm import tqdm\n",
    "\n",
    "criterion = CrossEntropyLoss()\n",
    "optimizer = Adam(model.parameters(), lr=0.001)\n",
    "\n",
    "num_epochs = 1\n",
    "model.train()\n",
    "for epoch in range(num_epochs):\n",
    "    running_loss = 0.0\n",
    "    for inputs, annotations in tqdm(train_batches):\n",
    "        optimizer.zero_grad()\n",
    "        outputs = model(inputs)\n",
    "        loss = criterion(outputs, annotations)\n",
    "        loss.backward()\n",
    "        optimizer.step()\n",
    "        running_loss += loss.item()\n",
    "    print(f\"Epoch {epoch+1}/{num_epochs}, Loss: {running_loss/len(train_batches)}\")\n",
    "\n",
    "model.eval()\n",
    "correct = 0\n",
    "total = 0\n",
    "with torch.no_grad():\n",
    "    for inputs, annotations in test_batches:\n",
    "        outputs = model(inputs)\n",
    "        _, predicted = torch.max(outputs.data, 1)\n",
    "        total += annotations.size(0)\n",
    "        correct += (predicted == annotations).sum().item()\n",
    "\n",
    "print(f\"Accuracy: {100 * correct / total}%\")"
   ]
  }
 ],
 "metadata": {
  "kernelspec": {
   "display_name": "Python 3",
   "language": "python",
   "name": "python3"
  },
  "language_info": {
   "codemirror_mode": {
    "name": "ipython",
    "version": 3
   },
   "file_extension": ".py",
   "mimetype": "text/x-python",
   "name": "python",
   "nbconvert_exporter": "python",
   "pygments_lexer": "ipython3",
   "version": "3.12.0"
  }
 },
 "nbformat": 4,
 "nbformat_minor": 2
}
