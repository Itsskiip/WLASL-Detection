{
 "cells": [
  {
   "cell_type": "code",
   "execution_count": null,
   "metadata": {},
   "outputs": [],
   "source": [
    "! pip install pandas numpy pillow scikit-learn tqdm decord\n",
    "! pip3 install torch torchvision torchaudio torchcodec --index-url https://download.pytorch.org/whl/cu126"
   ]
  },
  {
   "cell_type": "code",
   "execution_count": null,
   "metadata": {},
   "outputs": [
    {
     "name": "stdout",
     "output_type": "stream",
     "text": [
      "torch.Size([1, 136, 242])\n"
     ]
    },
    {
     "data": {
      "image/jpeg": "[encoded data removed]",
      "image/png": "[encoded data removed]",
      "text/plain": [
       "<PIL.Image.Image image mode=L size=242x136>"
      ]
     },
     "metadata": {},
     "output_type": "display_data"
    },
    {
     "name": "stdout",
     "output_type": "stream",
     "text": [
      "torch.Size([1, 136, 242])\n"
     ]
    },
    {
     "data": {
      "image/jpeg": "[encoded data removed]",
      "image/png": "[encoded data removed]",
      "text/plain": [
       "<PIL.Image.Image image mode=L size=242x136>"
      ]
     },
     "metadata": {},
     "output_type": "display_data"
    },
    {
     "name": "stdout",
     "output_type": "stream",
     "text": [
      "video_id    7099\n",
      "label       book\n",
      "offset       130\n",
      "length        44\n",
      "Name: 4, dtype: object\n"
     ]
    }
   ],
   "source": [
    "import pandas as pd\n",
    "import numpy as np\n",
    "from torch.utils.data import Dataset, Subset, DataLoader\n",
    "from IPython import display\n",
    "import torch\n",
    "import time\n",
    "from PIL import Image\n",
    "import decord\n",
    "DEVICE = 'cuda'\n",
    "\n",
    "torch.set_default_dtype(torch.float16)\n",
    "decord.bridge.set_bridge('torch')\n",
    "\n",
    "class VideoDataset(Dataset):\n",
    "    def __init__(self, annotations_file, vid_file, device):\n",
    "        self.annotations = pd.read_csv(annotations_file)\n",
    "        labels = self.annotations['label']\n",
    "        self.label_map = {c: i for i, c in enumerate(set(labels))}\n",
    "        self.labels = torch.tensor([self.label_map[s] for s in labels]).to(device)\n",
    "        self.cap = decord.VideoReader(vid_file)\n",
    "        self.device = device\n",
    "\n",
    "    def __len__(self):\n",
    "        return len(self.annotations)\n",
    "    \n",
    "    def get_clips(self, clips: list[range]):\n",
    "        frames = self.cap.get_batch([i for clip in clips for i in clip])\n",
    "        frames = frames.data[:, :, :, 0] / (255 / 2) - 1\n",
    "        \n",
    "        frames = frames.unsqueeze(1)\n",
    "\n",
    "        batch = []\n",
    "        i = 0\n",
    "        for r in clips:\n",
    "            l = len(r)\n",
    "            clip = frames[i: l]\n",
    "            batch.append(clip)\n",
    "            \n",
    "        return batch\n",
    "    \n",
    "    def get_vid(self, idx):\n",
    "        offset, length, _ = self[idx]\n",
    "        return self.get_clips([range(offset, offset + length)])\n",
    "\n",
    "    def __getitem__(self, idx):\n",
    "        row = self.annotations.loc[idx]\n",
    "        return row['offset'], row['length'], self.labels[idx]\n",
    "\n",
    "def show_frame(frame):\n",
    "    frame.cpu()\n",
    "    frame = (frame + 1) * (255 / 2)\n",
    "    print(frame.shape)\n",
    "    display.display(Image.fromarray(frame[0, :, :].numpy().astype(np.uint8)))\n",
    "\n",
    "def play_video(vid):\n",
    "    vid = ds.get_vid(vid)[0].cpu()\n",
    "    for frame in vid[:,0,:,:]:\n",
    "        display.clear_output(wait=True)\n",
    "        show_frame(frame)\n",
    "        time.sleep(1/15)\n",
    "    \n",
    "def get_first_last(vid):\n",
    "    frame_start = vid[0][0].cpu()\n",
    "    frame_end = vid[-1][0].cpu()\n",
    "    \n",
    "    show_frame(frame_start)\n",
    "    show_frame(frame_end)\n",
    "\n",
    "def stats(i):\n",
    "    get_first_last(ds.get_vid(i))\n",
    "    print(ds.annotations.loc[i])\n",
    "        \n",
    "ds = VideoDataset('labels.csv', 'wlasl_downsampled.mp4', DEVICE)\n",
    "\n",
    "stats(4)"
   ]
  },
  {
   "cell_type": "code",
   "execution_count": 38,
   "metadata": {},
   "outputs": [],
   "source": [
    "import torch\n",
    "from sklearn.model_selection import train_test_split\n",
    "import torch.nn.utils.rnn as rnn_utils\n",
    "\n",
    "TEST_SIZE = 0.2\n",
    "BATCH_SIZE = 64\n",
    "SEED = 10\n",
    "\n",
    "train_i, test_i = train_test_split(\n",
    "    range(len(ds)),\n",
    "    stratify=ds.annotations['label'],\n",
    "    test_size=TEST_SIZE,\n",
    "    random_state=SEED\n",
    "    )\n",
    "\n",
    "torch.manual_seed(SEED)\n",
    "\n",
    "train_split = Subset(ds, train_i)\n",
    "test_split = Subset(ds, test_i)\n",
    "\n",
    "def collate(batch):\n",
    "    batch.sort(key=lambda x: x[0], reverse=True)\n",
    "\n",
    "    videos = ds.get_clips([range(o + 1, o + l - 1) for o, l, _ in batch])\n",
    "\n",
    "    batch.sort(key=lambda x: x[1], reverse=True)\n",
    "    \n",
    "    offsets, lengths, labels = zip(*batch)\n",
    "\n",
    "    padded_videos = rnn_utils.pad_sequence(videos).to(DEVICE)\n",
    "\n",
    "    lengths = [l - 2 for l in lengths]\n",
    "    \n",
    "    return padded_videos, lengths, torch.stack(labels)\n",
    "\n",
    "train_batches = DataLoader(train_split, batch_size=BATCH_SIZE, shuffle=True, collate_fn=collate)\n",
    "test_batches = DataLoader(test_split, batch_size=BATCH_SIZE, collate_fn=collate)"
   ]
  },
  {
   "cell_type": "code",
   "execution_count": null,
   "metadata": {},
   "outputs": [
    {
     "name": "stdout",
     "output_type": "stream",
     "text": [
      "Flatten: torch.Size([96, 64, 1, 136, 242]), torch.Size([6144, 1, 136, 242]), torch.float16\n",
      "Flatten: torch.Size([6144, 1, 136, 242]), torch.Size([6144, 32912]), torch.float16\n",
      "FullyConnected: torch.Size([6144, 32912]), torch.Size([6144, 1024]), torch.float16\n",
      "FullyConnected: torch.Size([64, 512]), torch.Size([64, 512]), torch.float16\n",
      "Linear: torch.Size([64, 512]), torch.Size([64, 1910]), torch.float16\n",
      "Sigmoid: torch.Size([64, 1910]), torch.Size([64, 1910]), torch.float16\n",
      "torch.Size([64, 1910])\n"
     ]
    }
   ],
   "source": [
    "from torch import nn\n",
    "\n",
    "class FullyConnected(nn.Module):\n",
    "    def __init__(self, out):\n",
    "        super().__init__()\n",
    "        self.layers = nn.Sequential(\n",
    "            nn.LazyLinear(out),\n",
    "            nn.LazyBatchNorm1d(),\n",
    "            nn.LeakyReLU(),\n",
    "        )\n",
    "    def forward(self, inp):\n",
    "        return self.layers(inp)\n",
    "\n",
    "class Conv2d(nn.Module):\n",
    "    def __init__(self, out_channels, kernel_size, stride):\n",
    "        super().__init__()\n",
    "        self.layers = nn.Sequential(\n",
    "            nn.LazyConv2d(out_channels, kernel_size, stride),\n",
    "            nn.LazyBatchNorm2d(),\n",
    "            nn.LeakyReLU(),\n",
    "        )\n",
    "    def forward(self, inp):\n",
    "        return self.layers(inp)\n",
    "\n",
    "\n",
    "class TransformerModule(nn.Module):\n",
    "    def __init__(self):\n",
    "        super().__init__()\n",
    "        self.layers = nn.Sequential(\n",
    "            nn.Flatten(0, 1),\n",
    "            nn.MaxPool2d(2, 2),\n",
    "            Conv2d(out_channels=2, kernel_size=2, stride=1),\n",
    "            Conv2d(out_channels=4, kernel_size=6, stride=2),\n",
    "            Conv2d(out_channels=16, kernel_size=6, stride=2),\n",
    "            nn.Flatten(1),\n",
    "            FullyConnected(2048),\n",
    "            FullyConnected(1024),\n",
    "            FullyConnected(1024),\n",
    "            )\n",
    "\n",
    "        self.rnn = nn.RNN(1024, 512, 4)\n",
    "\n",
    "        self.output = nn.Sequential(\n",
    "            FullyConnected(512),\n",
    "            nn.Linear(512, 1910),\n",
    "        )\n",
    "\n",
    "\n",
    "    def forward(self, inp, lengths):\n",
    "        x = inp\n",
    "        frames, batch, channels, h, w = x.shape\n",
    "        x = self.layers(x)\n",
    "        x = x.view(frames, batch, -1)\n",
    "        x = rnn_utils.pack_padded_sequence(x, lengths, enforce_sorted=False)\n",
    "        x, h = self.rnn(x)\n",
    "        x = h[0, :, :]\n",
    "        output = self.output(x)\n",
    "        \n",
    "        return output\n",
    "\n",
    "model = TransformerModule()\n",
    "model.to(DEVICE)\n",
    "\n",
    "def print_hook(module, args, output):\n",
    "    inp = args[0]\n",
    "    \n",
    "    if isinstance(inp, torch.Tensor):\n",
    "        dtype = inp.dtype\n",
    "        inp = inp.shape\n",
    "    elif isinstance(inp, rnn_utils.PackedSequence):\n",
    "        dtype = inp.data.dtype\n",
    "        inp = inp.data.shape\n",
    "    \n",
    "    if isinstance(output, tuple):\n",
    "        output = output[0]\n",
    "    outp = output.shape\n",
    "    name = type(module).__name__\n",
    "    print(f'{name}: {inp}, {outp}, {dtype}')\n",
    "\n",
    "handles = []\n",
    "\n",
    "# Apply Xavier initialization\n",
    "def initialize_weights(m):\n",
    "    if isinstance(m, nn.Linear):\n",
    "        torch.nn.init.xavier_uniform_(m.weight)\n",
    "        if m.bias is not None:\n",
    "            torch.nn.init.zeros_(m.bias)\n",
    "\n",
    "for child in model.children():\n",
    "    if child.children():\n",
    "        for child_ in child.children():\n",
    "            handles.append(child_.register_forward_hook(print_hook))\n",
    "    else:\n",
    "        handles.append(child.register_forward_hook(print_hook))\n",
    "\n",
    "sample, lengths, _ = next(iter(train_batches))\n",
    "\n",
    "result = model(sample, lengths)\n",
    "\n",
    "print(result.shape)\n",
    "\n",
    "for handle in handles:\n",
    "    handle.remove()"
   ]
  },
  {
   "cell_type": "code",
   "execution_count": null,
   "metadata": {},
   "outputs": [
    {
     "name": "stderr",
     "output_type": "stream",
     "text": [
      "100%|██████████| 147/147 [01:26<00:00,  1.71it/s]\n"
     ]
    },
    {
     "name": "stdout",
     "output_type": "stream",
     "text": [
      "Epoch 1/2, Loss: 7.5655824829931975, Accuracy: 0.021328783192918845%\n"
     ]
    },
    {
     "name": "stderr",
     "output_type": "stream",
     "text": [
      "100%|██████████| 147/147 [01:24<00:00,  1.73it/s]\n"
     ]
    },
    {
     "name": "stdout",
     "output_type": "stream",
     "text": [
      "Epoch 2/2, Loss: 7.552774234693878, Accuracy: 0.06931854537698624%\n",
      "-------------------------------------------------------  ------------  ------------  ------------  ------------  ------------  ------------  ------------  ------------  ------------  ------------  \n",
      "                                                   Name    Self CPU %      Self CPU   CPU total %     CPU total  CPU time avg     Self CUDA   Self CUDA %    CUDA total  CUDA time avg    # of Calls  \n",
      "-------------------------------------------------------  ------------  ------------  ------------  ------------  ------------  ------------  ------------  ------------  ------------  ------------  \n",
      "                                          model_forward         7.48%       13.713s        93.38%      171.186s      171.186s       13.083s         7.13%      171.189s      171.189s             1  \n",
      "enumerate(DataLoader)#_SingleProcessDataLoaderIter._...        45.99%       84.301s        79.84%      146.358s     494.453ms       83.843s        45.72%      146.375s     494.511ms           296  \n",
      "                                              aten::div         7.38%       13.531s        10.28%       18.848s      64.108ms       13.537s         7.38%       18.863s      64.162ms           294  \n",
      "                                            aten::copy_        10.28%       18.848s        10.28%       18.848s     393.716us       16.619s         9.06%       16.619s     347.166us         47871  \n",
      "                                     aten::pad_sequence         0.77%        1.404s         9.24%       16.947s      57.644ms     716.133ms         0.39%       16.950s      57.652ms           294  \n",
      "                                               aten::to         0.06%     111.779ms         8.90%       16.313s       2.915ms     112.088ms         0.06%       13.704s       2.449ms          5596  \n",
      "                                         aten::_to_copy         0.14%     264.935ms         8.84%       16.201s       3.444ms     193.470ms         0.11%       13.592s       2.890ms          4704  \n",
      "                                              aten::sub         8.75%       16.032s         8.76%       16.065s      54.642ms       16.045s         8.75%       16.080s      54.695ms           294  \n",
      "                                             aten::full         0.02%      41.844ms         6.36%       11.650s      39.627ms      19.577ms         0.01%       11.654s      39.641ms           294  \n",
      "                                            aten::fill_         5.90%       10.810s         5.90%       10.810s       3.047ms       10.907s         5.95%       10.907s       3.074ms          3548  \n",
      "-------------------------------------------------------  ------------  ------------  ------------  ------------  ------------  ------------  ------------  ------------  ------------  ------------  \n",
      "Self CPU time total: 183.320s\n",
      "Self CUDA time total: 183.391s\n",
      "\n"
     ]
    },
    {
     "name": "stderr",
     "output_type": "stream",
     "text": [
      "100%|██████████| 37/37 [00:29<00:00,  1.27it/s]"
     ]
    },
    {
     "name": "stdout",
     "output_type": "stream",
     "text": [
      "Accuracy: 0.042643923240938165%\n"
     ]
    },
    {
     "name": "stderr",
     "output_type": "stream",
     "text": [
      "\n"
     ]
    }
   ],
   "source": [
    "from torch.optim import Adam\n",
    "from torch.nn import CrossEntropyLoss\n",
    "from tqdm import tqdm\n",
    "from torch import profiler\n",
    "\n",
    "model.apply(initialize_weights)\n",
    "\n",
    "criterion = CrossEntropyLoss()\n",
    "optimizer = Adam(model.parameters(), lr=0.001, eps=1e-3)\n",
    "torch.nn.utils.clip_grad_norm_(model.parameters(), max_norm=1.0)\n",
    "\n",
    "num_epochs = 20\n",
    "\n",
    "torch.autograd.set_detect_anomaly(True)\n",
    "\n",
    "# with profiler.profile(\n",
    "#     activities=[\n",
    "#         profiler.ProfilerActivity.CPU,\n",
    "#         profiler.ProfilerActivity.CUDA,\n",
    "#     ]\n",
    "# ) as prof:\n",
    "#     def a():\n",
    "\n",
    "correct = 0\n",
    "total = 0\n",
    "with profiler.record_function(\"model_forward\"):\n",
    "    model.train()\n",
    "    for epoch in range(num_epochs):\n",
    "        running_loss = 0.0\n",
    "        for inputs, lengths, annotations in tqdm(train_batches, smoothing=0.8):\n",
    "            optimizer.zero_grad()\n",
    "            outputs = model(inputs, lengths)\n",
    "            _, predicted = torch.max(outputs.data, 1)\n",
    "            \n",
    "            loss = criterion(outputs, annotations)\n",
    "            loss.backward()\n",
    "            optimizer.step()\n",
    "            running_loss += loss.item()\n",
    "\n",
    "            total += annotations.size(0)\n",
    "            correct += (predicted == annotations).sum().item()\n",
    "            # print(f\"Loss: {loss.item()}\")\n",
    "        print(f\"Epoch {epoch+1}/{num_epochs}, Loss: {running_loss/len(train_batches)}, Accuracy: {100 * correct / total}%\")\n",
    "\n",
    "    # a()\n",
    "\n",
    "# print(prof.key_averages().table(sort_by=\"cpu_time_total\", row_limit=10))\n",
    "\n",
    "model.eval()\n",
    "correct = 0\n",
    "total = 0\n",
    "with torch.no_grad():\n",
    "    for inputs, lengths, annotations in tqdm(test_batches, smoothing=0.8):\n",
    "        outputs = model(inputs, lengths)\n",
    "        _, predicted = torch.max(outputs.data, 1)\n",
    "        total += annotations.size(0)\n",
    "        correct += (predicted == annotations).sum().item()\n",
    "\n",
    "print(f\"Accuracy: {100 * correct / total}%\")"
   ]
  },
  {
   "cell_type": "code",
   "execution_count": null,
   "metadata": {},
   "outputs": [],
   "source": []
  }
 ],
 "metadata": {
  "kernelspec": {
   "display_name": "Python 3",
   "language": "python",
   "name": "python3"
  },
  "language_info": {
   "codemirror_mode": {
    "name": "ipython",
    "version": 3
   },
   "file_extension": ".py",
   "mimetype": "text/x-python",
   "name": "python",
   "nbconvert_exporter": "python",
   "pygments_lexer": "ipython3",
   "version": "3.12.0"
  }
 },
 "nbformat": 4,
 "nbformat_minor": 2
}
